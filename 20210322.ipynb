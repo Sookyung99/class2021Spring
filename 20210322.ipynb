{
  "nbformat": 4,
  "nbformat_minor": 0,
  "metadata": {
    "colab": {
      "name": "20210322.ipynb",
      "provenance": [],
      "collapsed_sections": [],
      "authorship_tag": "ABX9TyO9vIK2SiyvUvFJRE5xlj7J",
      "include_colab_link": true
    },
    "kernelspec": {
      "name": "python3",
      "display_name": "Python 3"
    },
    "language_info": {
      "name": "python"
    }
  },
  "cells": [
    {
      "cell_type": "markdown",
      "metadata": {
        "id": "view-in-github",
        "colab_type": "text"
      },
      "source": [
        "<a href=\"https://colab.research.google.com/github/Sookyung99/class2021Spring/blob/main/20210322.ipynb\" target=\"_parent\"><img src=\"https://colab.research.google.com/assets/colab-badge.svg\" alt=\"Open In Colab\"/></a>"
      ]
    },
    {
      "cell_type": "markdown",
      "metadata": {
        "id": "LtxqIPYnXH5p"
      },
      "source": [
        "#### 과제 : 이차함수 만들기 + 실행\n",
        "1.\n",
        "f(x) = ax + b\n",
        "\n",
        "    def func(x):\n",
        "      a = 2, b = 1\n",
        "      y = ax + b\n",
        "      return y\n",
        "2.\n",
        "f(x) = ax**2 + bx + c\n",
        "\n",
        "    def func2(x, a, b, c):\n",
        "      y = ax**2 + bx + c\n",
        "      return y"
      ]
    },
    {
      "cell_type": "code",
      "metadata": {
        "id": "q5Mo3ZOUXGH1"
      },
      "source": [
        "# 모든 값 직접 입력\n",
        "def func2(x, a, b, c):\n",
        "  y = a*x**2 + b*x + c\n",
        "  return y"
      ],
      "execution_count": 3,
      "outputs": []
    },
    {
      "cell_type": "code",
      "metadata": {
        "colab": {
          "base_uri": "https://localhost:8080/"
        },
        "id": "HL90LZhOX4np",
        "outputId": "122b7fbc-7fa5-440a-a206-18a7381646e9"
      },
      "source": [
        "func2(3,4,1,2)"
      ],
      "execution_count": 5,
      "outputs": [
        {
          "output_type": "execute_result",
          "data": {
            "text/plain": [
              "41"
            ]
          },
          "metadata": {
            "tags": []
          },
          "execution_count": 5
        }
      ]
    },
    {
      "cell_type": "code",
      "metadata": {
        "id": "1hTKrIe3YBH1"
      },
      "source": [
        "# x만 직접 입력\n",
        "def func2t(x):\n",
        "  a = 2; b = 3; c = 5\n",
        "  y = a*x**2 + b*x + c\n",
        "  return y"
      ],
      "execution_count": 8,
      "outputs": []
    },
    {
      "cell_type": "code",
      "metadata": {
        "colab": {
          "base_uri": "https://localhost:8080/"
        },
        "id": "CCoxG82nYOjn",
        "outputId": "d2a14ba1-71ca-430e-aec5-d2ed96c4a636"
      },
      "source": [
        "func2t(2)"
      ],
      "execution_count": 10,
      "outputs": [
        {
          "output_type": "execute_result",
          "data": {
            "text/plain": [
              "19"
            ]
          },
          "metadata": {
            "tags": []
          },
          "execution_count": 10
        }
      ]
    }
  ]
}
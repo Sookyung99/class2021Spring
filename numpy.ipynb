{
  "nbformat": 4,
  "nbformat_minor": 0,
  "metadata": {
    "colab": {
      "name": "numpy.ipynb",
      "provenance": [],
      "collapsed_sections": [],
      "authorship_tag": "ABX9TyOQ/PsoMd5s3nyDt9938hRM",
      "include_colab_link": true
    },
    "kernelspec": {
      "name": "python3",
      "display_name": "Python 3"
    },
    "language_info": {
      "name": "python"
    }
  },
  "cells": [
    {
      "cell_type": "markdown",
      "metadata": {
        "id": "view-in-github",
        "colab_type": "text"
      },
      "source": [
        "<a href=\"https://colab.research.google.com/github/Sookyung99/class2021Spring/blob/main/numpy.ipynb\" target=\"_parent\"><img src=\"https://colab.research.google.com/assets/colab-badge.svg\" alt=\"Open In Colab\"/></a>"
      ]
    },
    {
      "cell_type": "markdown",
      "metadata": {
        "id": "uHTNYqIZnQYH"
      },
      "source": [
        "# NumPy basics"
      ]
    },
    {
      "cell_type": "markdown",
      "metadata": {
        "id": "vsR1D1TFnWGr"
      },
      "source": [
        "# 1. Creation"
      ]
    },
    {
      "cell_type": "code",
      "metadata": {
        "id": "fXzCU7wTnM8v"
      },
      "source": [
        "import numpy as np                  #numpy라는 패키지를 np라는 이름으로, \n",
        "import matplotlib.pyplot as plt     #matplotlibe이라는 패키지 안의 pyplot이라는 모듈을 plt라는 이름으로 부를래"
      ],
      "execution_count": null,
      "outputs": []
    },
    {
      "cell_type": "markdown",
      "metadata": {
        "id": "FiN1CiY3pFm2"
      },
      "source": [
        "일차원적인 데이터보다,\n",
        "이차원적인 <행렬>이 더 편리. \n",
        "다양한 차원의 숫자들을 표현하기 위해 행렬이 반드시 필요함.\n",
        "AI, Data Science하면서 행렬로 숫자 표현하는 것이 매우 중요함\n",
        "numpy 패키지도 숫자를 다루는 데 필수적임."
      ]
    },
    {
      "cell_type": "code",
      "metadata": {
        "colab": {
          "base_uri": "https://localhost:8080/"
        },
        "id": "7T-03jJqneMH",
        "outputId": "bba3c00a-1275-4590-8927-ed19ede98c9c"
      },
      "source": [
        "np.empty([2, 3], dtype = 'int')   #2행 3열의 행렬을 만들어라, 정수형으로"
      ],
      "execution_count": null,
      "outputs": [
        {
          "output_type": "execute_result",
          "data": {
            "text/plain": [
              "array([[94803973422400,              0,              0],\n",
              "       [             0,              0,              0]])"
            ]
          },
          "metadata": {
            "tags": []
          },
          "execution_count": 2
        }
      ]
    },
    {
      "cell_type": "code",
      "metadata": {
        "colab": {
          "base_uri": "https://localhost:8080/"
        },
        "id": "iRm1ESHwpmWw",
        "outputId": "181bbdab-5f35-4bcc-a174-13aa99411090"
      },
      "source": [
        "np.zeros([2, 3], )     #기본 자료형이 float임. empty와 다르고, 얘는 빈 공간 없이 0으로 채움"
      ],
      "execution_count": null,
      "outputs": [
        {
          "output_type": "execute_result",
          "data": {
            "text/plain": [
              "array([[0., 0., 0.],\n",
              "       [0., 0., 0.]])"
            ]
          },
          "metadata": {
            "tags": []
          },
          "execution_count": 3
        }
      ]
    },
    {
      "cell_type": "code",
      "metadata": {
        "colab": {
          "base_uri": "https://localhost:8080/"
        },
        "id": "cRXzJKNFpqMG",
        "outputId": "72e87546-c14a-44f2-f12a-3e07997647c2"
      },
      "source": [
        "np.arange(0, 10, 2, dtype = 'float64') #중요!! #0<= <10에서 2간격으로"
      ],
      "execution_count": null,
      "outputs": [
        {
          "output_type": "execute_result",
          "data": {
            "text/plain": [
              "array([0., 2., 4., 6., 8.])"
            ]
          },
          "metadata": {
            "tags": []
          },
          "execution_count": 4
        }
      ]
    },
    {
      "cell_type": "code",
      "metadata": {
        "colab": {
          "base_uri": "https://localhost:8080/"
        },
        "id": "nWHwezmlqctc",
        "outputId": "9803901e-3d0d-462b-f1c0-7625fda5426b"
      },
      "source": [
        "np.linspace(0, 10, 5, dtype = float)  #중요중요! #linear space #0<= <=10 등간격으로 5개"
      ],
      "execution_count": null,
      "outputs": [
        {
          "output_type": "execute_result",
          "data": {
            "text/plain": [
              "array([ 0. ,  2.5,  5. ,  7.5, 10. ])"
            ]
          },
          "metadata": {
            "tags": []
          },
          "execution_count": 5
        }
      ]
    },
    {
      "cell_type": "markdown",
      "metadata": {
        "id": "H1s3Hk_dq93y"
      },
      "source": [
        "- 2x3 행렬 <br>\n",
        "1 2 3  <br>\n",
        "4 5 6  <br>\n",
        "- 3x2 행렬 <br>\n",
        "1 2 <br>\n",
        "3 4 <br>\n",
        "5 6 <br>\n",
        "- **1** x 3 행렬 = row vector <br>\n",
        "1 2 3 <br>\n",
        "- 2 x **1** 행렬 = colomn vector <br>\n",
        "1 <br>\n",
        "2 <br>\n"
      ]
    },
    {
      "cell_type": "code",
      "metadata": {
        "colab": {
          "base_uri": "https://localhost:8080/"
        },
        "id": "SlCZhqNnqlJl",
        "outputId": "8b636d26-432a-4917-9a80-d8deebe32f95"
      },
      "source": [
        "X = np.array([[1, 2, 3], [4, 5, 6]])    # 2 by 3 행렬\n",
        "X                                       # 기본 자료형 int 정수형"
      ],
      "execution_count": null,
      "outputs": [
        {
          "output_type": "execute_result",
          "data": {
            "text/plain": [
              "array([[1, 2, 3],\n",
              "       [4, 5, 6]])"
            ]
          },
          "metadata": {
            "tags": []
          },
          "execution_count": 6
        }
      ]
    },
    {
      "cell_type": "code",
      "metadata": {
        "colab": {
          "base_uri": "https://localhost:8080/"
        },
        "id": "7Qg3xdU3rsvT",
        "outputId": "b1a30125-d0e3-4d11-8d31-2d5facdbb4d5"
      },
      "source": [
        "X.astype(np.float64)   #X의 class를 바꾸는 것"
      ],
      "execution_count": null,
      "outputs": [
        {
          "output_type": "execute_result",
          "data": {
            "text/plain": [
              "array([[1., 2., 3.],\n",
              "       [4., 5., 6.]])"
            ]
          },
          "metadata": {
            "tags": []
          },
          "execution_count": 7
        }
      ]
    },
    {
      "cell_type": "code",
      "metadata": {
        "colab": {
          "base_uri": "https://localhost:8080/"
        },
        "id": "-4q1W5PYsaXB",
        "outputId": "7546b830-5fbf-48f7-ecdf-d5fec65db552"
      },
      "source": [
        "np.zeros_like(X)     # X와 같은 형식으로 정렬해라"
      ],
      "execution_count": null,
      "outputs": [
        {
          "output_type": "execute_result",
          "data": {
            "text/plain": [
              "array([[0, 0, 0],\n",
              "       [0, 0, 0]])"
            ]
          },
          "metadata": {
            "tags": []
          },
          "execution_count": 8
        }
      ]
    },
    {
      "cell_type": "code",
      "metadata": {
        "colab": {
          "base_uri": "https://localhost:8080/",
          "height": 265
        },
        "id": "hVDYvByVsdFU",
        "outputId": "9acf66de-c033-409b-c7c4-1b1cf6fc555f"
      },
      "source": [
        "data = np.random.normal(loc = 0, scale = 1, size = 100)  #np 안의 random 안의 normal이라는 함수 : normal distribution의 형태로 만드는 함수임\n",
        "# print(data)\n",
        "plt.hist(data, bins = 10)   #histogram 그리는 함수. \n",
        "plt.show()  #벡터vector의 형태로 보내줌"
      ],
      "execution_count": null,
      "outputs": [
        {
          "output_type": "display_data",
          "data": {
            "image/png": "[encoded data removed]",
            "text/plain": [
              "<Figure size 432x288 with 1 Axes>"
            ]
          },
          "metadata": {
            "tags": [],
            "needs_background": "light"
          }
        }
      ]
    },
    {
      "cell_type": "markdown",
      "metadata": {
        "id": "wKirQWbHt2HC"
      },
      "source": [
        "# 2. Manipulation"
      ]
    },
    {
      "cell_type": "code",
      "metadata": {
        "colab": {
          "base_uri": "https://localhost:8080/"
        },
        "id": "w2cxXGmzsr-O",
        "outputId": "9e7ad4b1-ee5b-4af4-a43f-14114a955852"
      },
      "source": [
        "x = np.ones([2, 3, 4])    # [[[1, 1, 1, 1], [1, 1, 1, 1], [1, 1, 1, 1] ], [[1, 1, 1, 1], [1, 1, 1, 1], [1, 1, 1, 1]]]\n",
        "x   #3차원의 tensor       # 결국은 다 \"중첩된 리스트\""
      ],
      "execution_count": null,
      "outputs": [
        {
          "output_type": "execute_result",
          "data": {
            "text/plain": [
              "array([[[1., 1., 1., 1.],\n",
              "        [1., 1., 1., 1.],\n",
              "        [1., 1., 1., 1.]],\n",
              "\n",
              "       [[1., 1., 1., 1.],\n",
              "        [1., 1., 1., 1.],\n",
              "        [1., 1., 1., 1.]]])"
            ]
          },
          "metadata": {
            "tags": []
          },
          "execution_count": 12
        }
      ]
    },
    {
      "cell_type": "code",
      "metadata": {
        "colab": {
          "base_uri": "https://localhost:8080/"
        },
        "id": "AAeIW8krvjtg",
        "outputId": "5a46a5fe-7ef0-49d8-a809-b8db2b613801"
      },
      "source": [
        "y = x.reshape(-1, 3, 2)   # 계산하기 귀찮은 부분을 걍 -1로 입력 ㄱㄱ\n",
        "y"
      ],
      "execution_count": null,
      "outputs": [
        {
          "output_type": "execute_result",
          "data": {
            "text/plain": [
              "array([[[1., 1.],\n",
              "        [1., 1.],\n",
              "        [1., 1.]],\n",
              "\n",
              "       [[1., 1.],\n",
              "        [1., 1.],\n",
              "        [1., 1.]],\n",
              "\n",
              "       [[1., 1.],\n",
              "        [1., 1.],\n",
              "        [1., 1.]],\n",
              "\n",
              "       [[1., 1.],\n",
              "        [1., 1.],\n",
              "        [1., 1.]]])"
            ]
          },
          "metadata": {
            "tags": []
          },
          "execution_count": 13
        }
      ]
    },
    {
      "cell_type": "code",
      "metadata": {
        "colab": {
          "base_uri": "https://localhost:8080/"
        },
        "id": "aXquVvVdxK3d",
        "outputId": "6bf19723-f2c5-49f6-ec6c-2075026d0cdd"
      },
      "source": [
        "type(y)"
      ],
      "execution_count": null,
      "outputs": [
        {
          "output_type": "execute_result",
          "data": {
            "text/plain": [
              "numpy.ndarray"
            ]
          },
          "metadata": {
            "tags": []
          },
          "execution_count": 18
        }
      ]
    },
    {
      "cell_type": "code",
      "metadata": {
        "id": "FmlPky4exNhP"
      },
      "source": [
        ""
      ],
      "execution_count": null,
      "outputs": []
    },
    {
      "cell_type": "markdown",
      "metadata": {
        "id": "CwMTHA4_xqeq"
      },
      "source": [
        "# 4. Inspecting"
      ]
    },
    {
      "cell_type": "code",
      "metadata": {
        "colab": {
          "base_uri": "https://localhost:8080/"
        },
        "id": "tK0ilEzLxtme",
        "outputId": "eb9a4631-7021-4ce2-cb5b-5078206f027d"
      },
      "source": [
        "arr = np.random.random(10)   # 0< <1 랜덤 숫자들\n",
        "arr       "
      ],
      "execution_count": null,
      "outputs": [
        {
          "output_type": "execute_result",
          "data": {
            "text/plain": [
              "array([0.45785969, 0.15923708, 0.56371784, 0.68882582, 0.56783528,\n",
              "       0.20358108, 0.6141407 , 0.30019347, 0.28976393, 0.12617023])"
            ]
          },
          "metadata": {
            "tags": []
          },
          "execution_count": 25
        }
      ]
    },
    {
      "cell_type": "code",
      "metadata": {
        "colab": {
          "base_uri": "https://localhost:8080/"
        },
        "id": "jGaHz_6OyD5d",
        "outputId": "8266e7e9-4ecd-4049-cf55-848f735ced88"
      },
      "source": [
        "arr = np.random.random([5, 2, 3])   #3차원!\n",
        "arr"
      ],
      "execution_count": null,
      "outputs": [
        {
          "output_type": "execute_result",
          "data": {
            "text/plain": [
              "array([[[0.99872214, 0.60958002, 0.10549328],\n",
              "        [0.73341025, 0.30084959, 0.35064618]],\n",
              "\n",
              "       [[0.2160779 , 0.25976451, 0.39847702],\n",
              "        [0.75775619, 0.20891634, 0.94249997]],\n",
              "\n",
              "       [[0.70077394, 0.88724231, 0.30501557],\n",
              "        [0.55434291, 0.06150276, 0.1899771 ]],\n",
              "\n",
              "       [[0.70822113, 0.70109038, 0.1260931 ],\n",
              "        [0.39342003, 0.58529714, 0.65729386]],\n",
              "\n",
              "       [[0.82851713, 0.19876191, 0.77184327],\n",
              "        [0.51957132, 0.34652053, 0.10389182]]])"
            ]
          },
          "metadata": {
            "tags": []
          },
          "execution_count": 37
        }
      ]
    },
    {
      "cell_type": "code",
      "metadata": {
        "colab": {
          "base_uri": "https://localhost:8080/"
        },
        "id": "My5nSFOTxyvs",
        "outputId": "f0a386f4-5246-423e-edba-605a01907660"
      },
      "source": [
        "print(type(arr))\n",
        "print(len(arr))   #length -> 가장 크게 볼 때, 가장 바깥쪽에서 볼 때의 원소 개수. 여기서는 5개의 리스트가 일단의 원소니까 5개라고 출력. (그 리스트들의 원소 개수와는 무관)\n",
        "print(arr.shape)\n",
        "print(arr.ndim)   #몇 차원?\n",
        "print(arr.size)   #elements들 총 개수\n",
        "print(arr.dtype)  #data type.   float와 float64의 차이는 ........"
      ],
      "execution_count": null,
      "outputs": [
        {
          "output_type": "stream",
          "text": [
            "<class 'numpy.ndarray'>\n",
            "5\n",
            "(5, 2, 3)\n",
            "3\n",
            "30\n",
            "float64\n"
          ],
          "name": "stdout"
        }
      ]
    },
    {
      "cell_type": "markdown",
      "metadata": {
        "id": "HCIVHw3PztU6"
      },
      "source": [
        "# 5. Operation"
      ]
    },
    {
      "cell_type": "markdown",
      "metadata": {
        "id": "89kbA8pTzvOS"
      },
      "source": [
        "### 5.1. Arithmetic"
      ]
    },
    {
      "cell_type": "code",
      "metadata": {
        "colab": {
          "base_uri": "https://localhost:8080/"
        },
        "id": "rIJ5WWVQyOK-",
        "outputId": "3061e478-520e-47b9-97f1-89899cbe46df"
      },
      "source": [
        "a = np.arange(1, 5)\n",
        "b = np.arange(9, 5, -1)\n",
        "print(a)\n",
        "print(b)"
      ],
      "execution_count": null,
      "outputs": [
        {
          "output_type": "stream",
          "text": [
            "[1 2 3 4]\n",
            "[9 8 7 6]\n"
          ],
          "name": "stdout"
        }
      ]
    },
    {
      "cell_type": "code",
      "metadata": {
        "colab": {
          "base_uri": "https://localhost:8080/"
        },
        "id": "_LHyutyMz7kO",
        "outputId": "1f28f3b6-7fd6-4988-a5b3-83f5606d4fc9"
      },
      "source": [
        "print(a - b)\n",
        "print(a * b)    # multiply elements by elements : 진짜 행렬의 곱 방식은 아님. 그래서 이걸 진짜 행렬으로 만들기 위해"
      ],
      "execution_count": null,
      "outputs": [
        {
          "output_type": "stream",
          "text": [
            "[-8 -6 -4 -2]\n",
            "[ 9 16 21 24]\n"
          ],
          "name": "stdout"
        }
      ]
    },
    {
      "cell_type": "code",
      "metadata": {
        "colab": {
          "base_uri": "https://localhost:8080/"
        },
        "id": "5dN1TvG30EMi",
        "outputId": "c6a30420-b81c-4642-83a8-3a20e6dd7b61"
      },
      "source": [
        "a = np.matrix(a)\n",
        "b = np.matrix(b)\n",
        "print(a)\n",
        "print(b)"
      ],
      "execution_count": null,
      "outputs": [
        {
          "output_type": "stream",
          "text": [
            "[[1 2 3 4]]\n",
            "[[9 8 7 6]]\n"
          ],
          "name": "stdout"
        }
      ]
    },
    {
      "cell_type": "code",
      "metadata": {
        "colab": {
          "base_uri": "https://localhost:8080/"
        },
        "id": "zSUpQ_cL03J7",
        "outputId": "a7c6430f-dcfd-4e2b-c776-1ca986063491"
      },
      "source": [
        "a * b.T # matrix.T -> matrix의 모양을 Transform 시켜줌. (1, 4)를 (4, 1)로 바꿔주는 식"
      ],
      "execution_count": null,
      "outputs": [
        {
          "output_type": "execute_result",
          "data": {
            "text/plain": [
              "matrix([[70]])"
            ]
          },
          "metadata": {
            "tags": []
          },
          "execution_count": 57
        }
      ]
    },
    {
      "cell_type": "code",
      "metadata": {
        "id": "7qdvlE451TJe"
      },
      "source": [
        "# 1*9 + 2*8 + 3*7 + 4*6"
      ],
      "execution_count": null,
      "outputs": []
    },
    {
      "cell_type": "code",
      "metadata": {
        "id": "No43RKi416rF"
      },
      "source": [
        ""
      ],
      "execution_count": null,
      "outputs": []
    },
    {
      "cell_type": "markdown",
      "metadata": {
        "id": "xbvy8FPU2OIK"
      },
      "source": [
        "### 5.2"
      ]
    },
    {
      "cell_type": "code",
      "metadata": {
        "colab": {
          "base_uri": "https://localhost:8080/"
        },
        "id": "xoja60L82Pfw",
        "outputId": "668f489e-9f81-4d8b-e474-be4ef39b1fc0"
      },
      "source": [
        "a = np.arange(1, 10).reshape(3, 3)\n",
        "b = np.arange(9, 0, -1).reshape(3, 3)\n",
        "print(a)\n",
        "print(b)"
      ],
      "execution_count": null,
      "outputs": [
        {
          "output_type": "stream",
          "text": [
            "[[1 2 3]\n",
            " [4 5 6]\n",
            " [7 8 9]]\n",
            "[[9 8 7]\n",
            " [6 5 4]\n",
            " [3 2 1]]\n"
          ],
          "name": "stdout"
        }
      ]
    },
    {
      "cell_type": "markdown",
      "metadata": {
        "id": "rF4FLNk82D3L"
      },
      "source": [
        "### 5.3"
      ]
    },
    {
      "cell_type": "code",
      "metadata": {
        "colab": {
          "base_uri": "https://localhost:8080/"
        },
        "id": "FMOvMTak2GSM",
        "outputId": "90808fd1-d600-4274-c8da-9d7ab2af8d75"
      },
      "source": [
        "a.sum(), np.sum(a)"
      ],
      "execution_count": null,
      "outputs": [
        {
          "output_type": "execute_result",
          "data": {
            "text/plain": [
              "(45, 45)"
            ]
          },
          "metadata": {
            "tags": []
          },
          "execution_count": 69
        }
      ]
    },
    {
      "cell_type": "code",
      "metadata": {
        "id": "LHANVFjj2JEK"
      },
      "source": [
        ""
      ],
      "execution_count": null,
      "outputs": []
    }
  ]
}
{
  "nbformat": 4,
  "nbformat_minor": 0,
  "metadata": {
    "colab": {
      "name": "test.ipynb",
      "provenance": [],
      "authorship_tag": "ABX9TyPC+0VKO8eVH1CAKpJB7p5X",
      "include_colab_link": true
    },
    "kernelspec": {
      "name": "python3",
      "display_name": "Python 3"
    }
  },
  "cells": [
    {
      "cell_type": "markdown",
      "metadata": {
        "id": "view-in-github",
        "colab_type": "text"
      },
      "source": [
        "<a href=\"https://colab.research.google.com/github/Sookyung99/class2021Spring_/blob/main/test.ipynb\" target=\"_parent\"><img src=\"https://colab.research.google.com/assets/colab-badge.svg\" alt=\"Open In Colab\"/></a>"
      ]
    },
    {
      "cell_type": "code",
      "metadata": {
        "colab": {
          "base_uri": "https://localhost:8080/"
        },
        "id": "dzB6aMp4UCgj",
        "outputId": "ae83defb-4127-435f-cc44-e58f3da8d888"
      },
      "source": [
        "a = 1\r\n",
        "b = 1\r\n",
        "c = a + b\r\n",
        "print('a=', a, ', b=', b, ', c=', c)"
      ],
      "execution_count": 4,
      "outputs": [
        {
          "output_type": "stream",
          "text": [
            "a= 1 , b= 1 , c= 2\n"
          ],
          "name": "stdout"
        }
      ]
    },
    {
      "cell_type": "markdown",
      "metadata": {
        "id": "B3NUHO8KUDBO"
      },
      "source": [
        "*+텍스트를 눌러서 필기를 할 수 있다.*\r\n",
        "# 오늘 배운 것:\r\n",
        "  **github 계정 만들기, login 해서 repository 만들기 (이름은 class2021Spring)**\r\n",
        "- .ipynb 파일 == 주피터 노트북 파일\r\n",
        "- 주피터 노트북 파일의 두 가지 포맷: 코드, 텍스트"
      ]
    },
    {
      "cell_type": "markdown",
      "metadata": {
        "id": "PRdGaoC8WNNM"
      },
      "source": [
        "# 파이썬을 어디서 배우나요?\r\n",
        "#### Jump to pyhon"
      ]
    },
    {
      "cell_type": "code",
      "metadata": {
        "id": "n_w3j3c8WU9w"
      },
      "source": [
        ""
      ],
      "execution_count": null,
      "outputs": []
    }
  ]
}
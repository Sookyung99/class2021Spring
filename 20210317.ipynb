{
  "nbformat": 4,
  "nbformat_minor": 0,
  "metadata": {
    "colab": {
      "name": "20210317.ipynb",
      "provenance": [],
      "authorship_tag": "ABX9TyOwwzSLfWkKAMJXSG0RfiFt",
      "include_colab_link": true
    },
    "kernelspec": {
      "name": "python3",
      "display_name": "Python 3"
    }
  },
  "cells": [
    {
      "cell_type": "markdown",
      "metadata": {
        "id": "view-in-github",
        "colab_type": "text"
      },
      "source": [
        "<a href=\"https://colab.research.google.com/github/Sookyung99/class2021Spring/blob/main/20210317.ipynb\" target=\"_parent\"><img src=\"https://colab.research.google.com/assets/colab-badge.svg\" alt=\"Open In Colab\"/></a>"
      ]
    },
    {
      "cell_type": "markdown",
      "metadata": {
        "id": "ckUReOLvr9Vf"
      },
      "source": [
        "## 실습\r\n",
        "1. for - for - if 만들기\r\n",
        "  커피 메뉴 중 라떼만?\r\n",
        "2. loup-list 만들기\r\n",
        "\r\n",
        "\r\n",
        "실패하더라도 아깝지 않을 준비를 했으면 좋겠어요.\r\n",
        "한국사, 국어 같은 것들은 그 시험에서 실패했을 때 다른 데서 쓰일 데가 없어요. 이 공부를 해서 어디를 못 가더라도 그 공부를 한 시간이 절대 낭비가 아니었다, 는 것들을 공부했으면 좋겠다.\r\n",
        "인문계 학생들이 그럴 수 있는 분야가 IT 이쪽이니까. 이 수업 하나로 취업길 열렸다는 것은 아니지만, 좋은 시작이 될 수 있다는 겁니다.\r\n",
        "연관 없더라도 진로 설계에 대한 궁금함이 있으면 학기중에도 언제든지.\r\n",
        "상당수의 학생들이 2-3년 지나고 나서 찾아오는 경우도 많아요. \r\n",
        "늘 환영이니까, 학과 학년 나이 모두 불문하고 언제든 열려 있으니 질문하면 좋겠습니다.\r\n",
        "다음시간에는 패키지, 클래스, 함수 이런 것들 해보겠습니다.\r\n"
      ]
    },
    {
      "cell_type": "code",
      "metadata": {
        "colab": {
          "base_uri": "https://localhost:8080/"
        },
        "id": "Ytci6ZR5r7QK",
        "outputId": "def2c2df-fef3-42d9-f896-b13d4d0ad8de"
      },
      "source": [
        "#1. for-for-if\r\n",
        "a = range(2, 5, 2)\r\n",
        "for i in a:\r\n",
        "  for j in range(1,5):\r\n",
        "    if j <= 3:\r\n",
        "      print(i * j)"
      ],
      "execution_count": 4,
      "outputs": [
        {
          "output_type": "stream",
          "text": [
            "2\n",
            "4\n",
            "6\n",
            "4\n",
            "8\n",
            "12\n"
          ],
          "name": "stdout"
        }
      ]
    },
    {
      "cell_type": "code",
      "metadata": {
        "colab": {
          "base_uri": "https://localhost:8080/"
        },
        "id": "nS4fkwGOvqf1",
        "outputId": "fd997852-157d-4a7d-cb79-e67426e63177"
      },
      "source": [
        "#2. loup-list\r\n",
        "c = [\"Korea\", \"Mexico\", \"Japan\", \"France\", \"Russia\", \"Cambodia\"]\r\n",
        "d = [ i for i in c if len(i) == 6 ]\r\n",
        "d"
      ],
      "execution_count": 10,
      "outputs": [
        {
          "output_type": "execute_result",
          "data": {
            "text/plain": [
              "['Mexico', 'France', 'Russia']"
            ]
          },
          "metadata": {
            "tags": []
          },
          "execution_count": 10
        }
      ]
    }
  ]
}
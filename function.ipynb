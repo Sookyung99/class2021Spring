{
  "nbformat": 4,
  "nbformat_minor": 0,
  "metadata": {
    "colab": {
      "name": "function.ipynb",
      "provenance": [],
      "collapsed_sections": [
        "cENwqZfcVcOd",
        "n168gqa7bhTg"
      ],
      "authorship_tag": "ABX9TyMpg+IW/AJwajT7c+SBhwuU",
      "include_colab_link": true
    },
    "kernelspec": {
      "name": "python3",
      "display_name": "Python 3"
    },
    "language_info": {
      "name": "python"
    }
  },
  "cells": [
    {
      "cell_type": "markdown",
      "metadata": {
        "id": "view-in-github",
        "colab_type": "text"
      },
      "source": [
        "<a href=\"https://colab.research.google.com/github/Sookyung99/class2021Spring/blob/main/function.ipynb\" target=\"_parent\"><img src=\"https://colab.research.google.com/assets/colab-badge.svg\" alt=\"Open In Colab\"/></a>"
      ]
    },
    {
      "cell_type": "markdown",
      "metadata": {
        "id": "cENwqZfcVcOd"
      },
      "source": [
        "# 함수\n",
        "* 함수를 사용하는 이유:\n",
        "  - 반복해서 사용하는 작업을 간편하게 사용하기 위함. \n",
        "  - 일종의 '모듈'같은 개념\n",
        "\n"
      ]
    },
    {
      "cell_type": "code",
      "metadata": {
        "id": "tFBxxDqKUtLO"
      },
      "source": [
        "def add(a, b):\n",
        "  return a + b\n",
        "\n",
        "def subtract(a, b):\n",
        "  return a - b\n",
        "\n",
        "def multiply(a, b):\n",
        "  return a * b\n",
        "\n",
        "def divide(a, b):\n",
        "  return a / b\n",
        "\n",
        "# 일차함수 정의 예시\n",
        "def func1(x):\n",
        "  a = 1; b = 2\n",
        "  y = ax + b\n",
        "  return y"
      ],
      "execution_count": 20,
      "outputs": []
    },
    {
      "cell_type": "code",
      "metadata": {
        "colab": {
          "base_uri": "https://localhost:8080/"
        },
        "id": "Id6cyB9AVzcm",
        "outputId": "864f762f-323d-4f68-89a3-a4324c094f42"
      },
      "source": [
        "c = add(1, 2); print(c)"
      ],
      "execution_count": 6,
      "outputs": [
        {
          "output_type": "stream",
          "text": [
            "3\n"
          ],
          "name": "stdout"
        }
      ]
    },
    {
      "cell_type": "code",
      "metadata": {
        "colab": {
          "base_uri": "https://localhost:8080/"
        },
        "id": "jPoCgQm9WDwo",
        "outputId": "7d7d165c-f08b-4245-8ebb-a21a7022a4ba"
      },
      "source": [
        "#만약 함수 정의할 때 출력을 하지 않는다면?\n",
        "def add(a, b):\n",
        "  c = a + b\n",
        "  #return c\n",
        "\n",
        "c = add(1, 2); print(c)   #오류 없이 None 출력함."
      ],
      "execution_count": 18,
      "outputs": [
        {
          "output_type": "stream",
          "text": [
            "None\n"
          ],
          "name": "stdout"
        }
      ]
    },
    {
      "cell_type": "code",
      "metadata": {
        "colab": {
          "base_uri": "https://localhost:8080/"
        },
        "id": "QQ0ystcaWPVL",
        "outputId": "ad4bdf2f-02e2-41a6-e02c-defb76c10ef8"
      },
      "source": [
        "#만약 함수 정의할 때 입출력 모두 없게 한다면?\n",
        "def add():\n",
        "  a = 1\n",
        "\n",
        "c = add(); print(c)   #오류 없이 None 출력함."
      ],
      "execution_count": 17,
      "outputs": [
        {
          "output_type": "stream",
          "text": [
            "None\n"
          ],
          "name": "stdout"
        }
      ]
    },
    {
      "cell_type": "code",
      "metadata": {
        "colab": {
          "base_uri": "https://localhost:8080/"
        },
        "id": "iN8psfMXWlqe",
        "outputId": "a90d9728-316a-486e-ee7a-fdfe38320a9a"
      },
      "source": [
        "def add(a, b):\n",
        "  return a, b\n",
        "\n",
        "result = add(1,2); print(result)\n",
        "type(result)"
      ],
      "execution_count": 16,
      "outputs": [
        {
          "output_type": "stream",
          "text": [
            "(1, 2)\n"
          ],
          "name": "stdout"
        },
        {
          "output_type": "execute_result",
          "data": {
            "text/plain": [
              "tuple"
            ]
          },
          "metadata": {
            "tags": []
          },
          "execution_count": 16
        }
      ]
    },
    {
      "cell_type": "markdown",
      "metadata": {
        "id": "WXiHaheTWaae"
      },
      "source": [
        "=> 함수를 정의할 때, <br>\n",
        "- 입력값 없이도 가능\n",
        "- 출력값 없이도 가능\n",
        "- 따라서 입출력값 0 개 이상 가능"
      ]
    },
    {
      "cell_type": "markdown",
      "metadata": {
        "id": "n168gqa7bhTg"
      },
      "source": [
        "# 클래스 class\n",
        "- 클래스 == 함수 + 변수\n",
        "\n",
        "\n",
        "![image.png](data:image/png;base64,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)"
      ]
    },
    {
      "cell_type": "code",
      "metadata": {
        "id": "z0PS-q8IbgUR"
      },
      "source": [
        "class cal:              # 클래스 'cal'을 정의\n",
        "  def __init__(self):   #(초기화 필요한 경우) 항상 이렇게 작성. 'self'는 해당 클래스로 만들어진 객체 자신을 뜻함(?)\n",
        "    self.result = 0     \n",
        "  def add(self, n):\n",
        "    self.result += n    # += n ; n만큼 더해줘라\n",
        "    return self.result"
      ],
      "execution_count": 21,
      "outputs": []
    },
    {
      "cell_type": "code",
      "metadata": {
        "colab": {
          "base_uri": "https://localhost:8080/"
        },
        "id": "5W70VmTEb2j9",
        "outputId": "a86219a9-8055-4205-88c6-4f46658e0b9c"
      },
      "source": [
        "cal"
      ],
      "execution_count": 22,
      "outputs": [
        {
          "output_type": "execute_result",
          "data": {
            "text/plain": [
              "__main__.cal"
            ]
          },
          "metadata": {
            "tags": []
          },
          "execution_count": 22
        }
      ]
    },
    {
      "cell_type": "code",
      "metadata": {
        "colab": {
          "base_uri": "https://localhost:8080/"
        },
        "id": "m5TsFbEtb4aF",
        "outputId": "0c3c2eef-27dd-445b-d7d3-29d82c8f6fb8"
      },
      "source": [
        "A = cal()\n",
        "A.result"
      ],
      "execution_count": 26,
      "outputs": [
        {
          "output_type": "execute_result",
          "data": {
            "text/plain": [
              "0"
            ]
          },
          "metadata": {
            "tags": []
          },
          "execution_count": 26
        }
      ]
    },
    {
      "cell_type": "code",
      "metadata": {
        "colab": {
          "base_uri": "https://localhost:8080/"
        },
        "id": "0VbLXh0Acfbd",
        "outputId": "3d29f7e3-4eb9-4762-86f9-423b957d0929"
      },
      "source": [
        "A.add(4)"
      ],
      "execution_count": 27,
      "outputs": [
        {
          "output_type": "execute_result",
          "data": {
            "text/plain": [
              "4"
            ]
          },
          "metadata": {
            "tags": []
          },
          "execution_count": 27
        }
      ]
    },
    {
      "cell_type": "code",
      "metadata": {
        "colab": {
          "base_uri": "https://localhost:8080/"
        },
        "id": "T-8fTllFcqvi",
        "outputId": "d6a8dc2b-c6b1-4f15-8366-17c0a4a6324d"
      },
      "source": [
        "A.add(10)"
      ],
      "execution_count": 28,
      "outputs": [
        {
          "output_type": "execute_result",
          "data": {
            "text/plain": [
              "14"
            ]
          },
          "metadata": {
            "tags": []
          },
          "execution_count": 28
        }
      ]
    },
    {
      "cell_type": "code",
      "metadata": {
        "colab": {
          "base_uri": "https://localhost:8080/"
        },
        "id": "NWwSnNlPdMLn",
        "outputId": "acc87cba-e3a9-4c75-96e9-e8399f311569"
      },
      "source": [
        "A.add(5)      #누적으로 더해지는 건가?"
      ],
      "execution_count": 29,
      "outputs": [
        {
          "output_type": "execute_result",
          "data": {
            "text/plain": [
              "19"
            ]
          },
          "metadata": {
            "tags": []
          },
          "execution_count": 29
        }
      ]
    },
    {
      "cell_type": "code",
      "metadata": {
        "id": "NHsC-w-8dOO8"
      },
      "source": [
        "B = cal()"
      ],
      "execution_count": 32,
      "outputs": []
    },
    {
      "cell_type": "code",
      "metadata": {
        "colab": {
          "base_uri": "https://localhost:8080/"
        },
        "id": "el9L1TptdgID",
        "outputId": "a48df97f-c59f-4a6a-caab-6bdb73c25781"
      },
      "source": [
        "B.result   "
      ],
      "execution_count": 35,
      "outputs": [
        {
          "output_type": "execute_result",
          "data": {
            "text/plain": [
              "0"
            ]
          },
          "metadata": {
            "tags": []
          },
          "execution_count": 35
        }
      ]
    },
    {
      "cell_type": "code",
      "metadata": {
        "colab": {
          "base_uri": "https://localhost:8080/"
        },
        "id": "4p7R_5fbdhUn",
        "outputId": "0110ce47-2873-4332-d1ec-fbe0fba255f1"
      },
      "source": [
        "B.add(5)"
      ],
      "execution_count": 36,
      "outputs": [
        {
          "output_type": "execute_result",
          "data": {
            "text/plain": [
              "5"
            ]
          },
          "metadata": {
            "tags": []
          },
          "execution_count": 36
        }
      ]
    },
    {
      "cell_type": "markdown",
      "metadata": {
        "id": "YGRf4hlYfFI4"
      },
      "source": [
        "# 모듈\n",
        "*module.py*\n",
        "\n",
        "모듈이란 함수나 변수 또는 클래스를 모아 놓은 **파일**이다. \n",
        "\n",
        "    모듈 - func - hist( )  \n",
        "         - ... ...  \n",
        "         - class    \n"
      ]
    },
    {
      "cell_type": "markdown",
      "metadata": {
        "id": "WvRu7CqHfLOk"
      },
      "source": [
        "# 패키지\n",
        "파일들을 사용하기 좋게 묶어둔 것..? <br>\n",
        "*패키지(Packages)는 도트(.)를 사용하여 파이썬 모듈을 계층적(디렉터리 구조)으로 관리할 수 있게 해준다. 예를 들어 모듈 이름이 A.B인 경우에 A는 패키지 이름이 되고 B는 A 패키지의 B모듈이 된다.*\n",
        "\n",
        "    패키지 - 파일 - 모듈 - func - hist( )  \n",
        "                         - ... ...  \n",
        "                         - class    "
      ]
    },
    {
      "cell_type": "code",
      "metadata": {
        "id": "vAva6PkKdpSG"
      },
      "source": [
        "import numpy as np\n",
        "n = np.random.randn(100)"
      ],
      "execution_count": 38,
      "outputs": []
    },
    {
      "cell_type": "code",
      "metadata": {
        "colab": {
          "base_uri": "https://localhost:8080/"
        },
        "id": "8BCHIDmZgQb4",
        "outputId": "ef4114ae-e314-4f0a-d440-76006ddabee1"
      },
      "source": [
        "n"
      ],
      "execution_count": 39,
      "outputs": [
        {
          "output_type": "execute_result",
          "data": {
            "text/plain": [
              "array([ 0.55374842, -1.22143508, -0.37543674,  0.37412271,  0.8961635 ,\n",
              "        0.25994969, -1.2557529 , -1.5265043 ,  2.79636368, -1.55688826,\n",
              "        0.35917052,  1.92194545, -0.70900324,  1.19933819,  1.67038579,\n",
              "        0.71728268,  0.91057119,  0.23065055, -1.03018616,  0.20204034,\n",
              "        0.89813412,  0.06603401, -0.81765209, -0.92458629,  1.88694405,\n",
              "        0.15987856, -0.19183011,  2.53437568, -0.09286667,  0.51418882,\n",
              "        0.76953827,  0.46140503, -0.67067977, -1.30478147, -1.1877709 ,\n",
              "        0.07880306,  1.13193325,  0.82713612,  0.26333376,  0.17314763,\n",
              "        0.76067324,  0.7021208 ,  0.60778053, -0.29214953, -0.57856887,\n",
              "       -0.2000284 ,  1.05434026,  0.19690748, -0.29930204,  1.50325688,\n",
              "       -0.08686947,  0.52699636, -1.42308615,  0.60089914,  0.33228634,\n",
              "       -0.07624027,  0.22625793,  0.94702364, -0.32442544,  0.26057256,\n",
              "       -0.30325119,  0.55294512,  0.42400874,  0.97465512,  0.25365401,\n",
              "       -0.10086811,  0.60451102, -0.37698998,  0.20130342, -0.10647357,\n",
              "       -2.21362986, -1.0692054 ,  1.60093066, -0.98660984,  1.40195216,\n",
              "       -0.60576018,  1.71065989, -0.50246978,  0.12604521,  0.87027444,\n",
              "        0.10082597, -1.62323741,  0.57962669, -1.98465669,  0.75577959,\n",
              "       -0.49654307, -1.04173967, -0.14912007,  0.04206252,  2.72409031,\n",
              "        0.20577289, -0.62531927,  0.97961036,  1.03189346, -0.27813294,\n",
              "        1.50012343, -0.6185566 , -0.2165338 ,  0.67458334, -0.41519135])"
            ]
          },
          "metadata": {
            "tags": []
          },
          "execution_count": 39
        }
      ]
    },
    {
      "cell_type": "code",
      "metadata": {
        "colab": {
          "base_uri": "https://localhost:8080/",
          "height": 359
        },
        "id": "su5WyVubg38z",
        "outputId": "9bbce52c-b8be-4837-c07c-ee7b549c35c0"
      },
      "source": [
        "#. 이렇게 써도 되고\n",
        "import matplotlib\n",
        "import matplotlib.pyplot as plt\n",
        "from matplotlib import pyplot\n",
        "from matplotlib.pyplot import hist\n",
        "\n",
        "#. 이렇게 써도 되고\n",
        "import matplotlib\n",
        "matplotlib.pyplot.hist(n)\n",
        "\n",
        "#. 이렇게 써도 되고\n",
        "import matplotlib.pyplot \n",
        "matplotlib.pyplot.hist(n)\n",
        "\n",
        "#. 이렇게 써도 되고\n",
        "from matplotlib import pyplot\n",
        "pyplot.hist(n)\n",
        "\n",
        "#. 이렇게 써도 되고\n",
        "from matplotlib.pyplot import hist\n",
        "hist(n)"
      ],
      "execution_count": 46,
      "outputs": [
        {
          "output_type": "execute_result",
          "data": {
            "text/plain": [
              "(array([ 2.,  7.,  7., 17., 25., 19., 12.,  6.,  2.,  3.]),\n",
              " array([-2.21362986, -1.7126305 , -1.21163115, -0.7106318 , -0.20963244,\n",
              "         0.29136691,  0.79236627,  1.29336562,  1.79436497,  2.29536433,\n",
              "         2.79636368]),\n",
              " <a list of 10 Patch objects>)"
            ]
          },
          "metadata": {
            "tags": []
          },
          "execution_count": 46
        },
        {
          "output_type": "display_data",
          "data": {
            "image/png": "[encoded data removed]",
            "text/plain": [
              "<Figure size 432x288 with 1 Axes>"
            ]
          },
          "metadata": {
            "tags": [],
            "needs_background": "light"
          }
        }
      ]
    },
    {
      "cell_type": "code",
      "metadata": {
        "id": "dD58auodhImc"
      },
      "source": [
        ""
      ],
      "execution_count": null,
      "outputs": []
    },
    {
      "cell_type": "markdown",
      "metadata": {
        "id": "Spu6ZUNPiaJq"
      },
      "source": [
        "import 또는 from import를 쓰는 건 외부 패키지이고, <br>\n",
        "그런 거 없이 print(), type()과 같이 바로 쓸 수 있는 함수 등은 기본 제공되는 것들임.\n",
        "\n",
        "colab은 구글에서 제공하는 클라우드 환경. 때문에 대부분의 패키지들은 인스톨 없이 사용할 수 있음. <br>\n",
        "그러나 독특한 패키지의 경우는 직접 install 해서 사용해야 하는 경우도 있음. *# 예를 들어 pip numpy*\n",
        "\n",
        "본인이 활용하는 분야에서 필요한 몇 가지의 중요한 패키지 또는 라이브러리를 어떻게 사용하는지를 배우는 것인데,, <br>\n",
        "관련 분야에서 패키지를 잘 쓸 수 있으면 됨"
      ]
    }
  ]
}
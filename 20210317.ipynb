{
  "nbformat": 4,
  "nbformat_minor": 0,
  "metadata": {
    "colab": {
      "name": "20210317.ipynb",
      "provenance": [],
      "authorship_tag": "ABX9TyNcS3wsH4eRcUlvieuqniyw",
      "include_colab_link": true
    },
    "kernelspec": {
      "name": "python3",
      "display_name": "Python 3"
    }
  },
  "cells": [
    {
      "cell_type": "markdown",
      "metadata": {
        "id": "view-in-github",
        "colab_type": "text"
      },
      "source": [
        "<a href=\"https://colab.research.google.com/github/Sookyung99/class2021Spring/blob/main/20210317.ipynb\" target=\"_parent\"><img src=\"https://colab.research.google.com/assets/colab-badge.svg\" alt=\"Open In Colab\"/></a>"
      ]
    },
    {
      "cell_type": "markdown",
      "metadata": {
        "id": "ckUReOLvr9Vf"
      },
      "source": [
        "## 실습\r\n",
        "1. for - for - if 만들기\r\n",
        "2. loup-list 만들기"
      ]
    },
    {
      "cell_type": "code",
      "metadata": {
        "colab": {
          "base_uri": "https://localhost:8080/"
        },
        "id": "Ytci6ZR5r7QK",
        "outputId": "def2c2df-fef3-42d9-f896-b13d4d0ad8de"
      },
      "source": [
        "#1. for-for-if\r\n",
        "a = range(2, 5, 2)\r\n",
        "for i in a:\r\n",
        "  for j in range(1,5):\r\n",
        "    if j <= 3:\r\n",
        "      print(i * j)"
      ],
      "execution_count": 4,
      "outputs": [
        {
          "output_type": "stream",
          "text": [
            "2\n",
            "4\n",
            "6\n",
            "4\n",
            "8\n",
            "12\n"
          ],
          "name": "stdout"
        }
      ]
    },
    {
      "cell_type": "code",
      "metadata": {
        "colab": {
          "base_uri": "https://localhost:8080/"
        },
        "id": "nS4fkwGOvqf1",
        "outputId": "fd997852-157d-4a7d-cb79-e67426e63177"
      },
      "source": [
        "#2. loup-list\r\n",
        "c = [\"Korea\", \"Mexico\", \"Japan\", \"France\", \"Russia\", \"Cambodia\"]\r\n",
        "d = [ i for i in c if len(i) == 6 ]\r\n",
        "d"
      ],
      "execution_count": 10,
      "outputs": [
        {
          "output_type": "execute_result",
          "data": {
            "text/plain": [
              "['Mexico', 'France', 'Russia']"
            ]
          },
          "metadata": {
            "tags": []
          },
          "execution_count": 10
        }
      ]
    }
  ]
}
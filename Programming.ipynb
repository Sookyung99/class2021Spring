{
  "nbformat": 4,
  "nbformat_minor": 0,
  "metadata": {
    "colab": {
      "name": "Programming.ipynb",
      "provenance": [],
      "authorship_tag": "ABX9TyOa88ErjBru/NFp+95LMsf5",
      "include_colab_link": true
    },
    "kernelspec": {
      "name": "python3",
      "display_name": "Python 3"
    }
  },
  "cells": [
    {
      "cell_type": "markdown",
      "metadata": {
        "id": "view-in-github",
        "colab_type": "text"
      },
      "source": [
        "<a href=\"https://colab.research.google.com/github/Sookyung99/class2021Spring/blob/main/Programming.ipynb\" target=\"_parent\"><img src=\"https://colab.research.google.com/assets/colab-badge.svg\" alt=\"Open In Colab\"/></a>"
      ]
    },
    {
      "cell_type": "code",
      "metadata": {
        "id": "fuPgaNdrpNWr"
      },
      "source": [
        ""
      ],
      "execution_count": null,
      "outputs": []
    },
    {
      "cell_type": "markdown",
      "metadata": {
        "id": "rbjFu-hmpN3q"
      },
      "source": [
        "### #20210310\n",
        "# 변수\n",
        "• 오른쪽의 내용을 왼쪽으로 할당(assign)\n",
        "\n",
        "• 예) \n",
        "\n",
        "a = 1\n",
        "\n",
        "b = 2\n",
        "\n",
        "c = “love”\n",
        "\n",
        "# 제어문\n",
        "문법 = 제어문\n",
        "1. 반복 : for\n",
        "2. 조건 : if\n",
        "예)\n",
        "a = 1\n",
        "if a == 1\n",
        "   print(3)\n",
        "조건에 해당할 경우 3 출력\n",
        "\n",
        "# 함수\n",
        "• 함수: 간단히 말해, **입출력 관계**\n",
        "\n",
        "• y = f(x)\n",
        "\n",
        "• 사람의 몸(감각->인지, 음식->배설), 자동차(조작->움직임) 등 입출력 관계인 것 무수히 多 \n",
        "\n",
        "• 일종의 모듈. 계속 반복해야 하는 작업을 함수에 저장해 간편하게 사용"
      ]
    }
  ]
}
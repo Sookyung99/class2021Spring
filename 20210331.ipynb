{
  "nbformat": 4,
  "nbformat_minor": 0,
  "metadata": {
    "colab": {
      "name": "20210331.ipynb",
      "provenance": [],
      "authorship_tag": "ABX9TyPWVzNI2/v46yNSBgSLfXdE",
      "include_colab_link": true
    },
    "kernelspec": {
      "name": "python3",
      "display_name": "Python 3"
    },
    "language_info": {
      "name": "python"
    }
  },
  "cells": [
    {
      "cell_type": "markdown",
      "metadata": {
        "id": "view-in-github",
        "colab_type": "text"
      },
      "source": [
        "<a href=\"https://colab.research.google.com/github/Sookyung99/class2021Spring/blob/main/20210331.ipynb\" target=\"_parent\"><img src=\"https://colab.research.google.com/assets/colab-badge.svg\" alt=\"Open In Colab\"/></a>"
      ]
    },
    {
      "cell_type": "markdown",
      "metadata": {
        "id": "C59vWa1d4ete"
      },
      "source": [
        "# Praat으로 모음 'ㅏ'와 'ㅐ'의 음성 분석하기\n",
        "사회학과 2018130513 김수경"
      ]
    },
    {
      "cell_type": "markdown",
      "metadata": {
        "id": "OYC9FLxZ4o3_"
      },
      "source": [
        "## 'ㅏ'\n",
        "- pitch : 197.1 Hz\n",
        "- intensity : 54.56 dB\n",
        "- formant\n",
        "  - f1 : 701.06 Hz\n",
        "  - f2 : 1168.47 Hz\n",
        "- duration : 0.4884 sec\n"
      ]
    },
    {
      "cell_type": "markdown",
      "metadata": {
        "id": "X2V57HxN47Fq"
      },
      "source": [
        "## 'ㅐ'\n",
        "- pitch : 204.5 Hz\n",
        "- intensity : 52.83 dB\n",
        "- formant\n",
        "  - f1 : 589.22 Hz\n",
        "  - f2 : 2266.54 Hz\n",
        "- duration : 0.4790 sec\n"
      ]
    }
  ]
}
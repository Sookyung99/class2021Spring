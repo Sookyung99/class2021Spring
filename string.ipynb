{
  "nbformat": 4,
  "nbformat_minor": 0,
  "metadata": {
    "colab": {
      "name": "string.ipynb",
      "provenance": [],
      "collapsed_sections": [],
      "include_colab_link": true
    },
    "kernelspec": {
      "name": "python3",
      "display_name": "Python 3"
    }
  },
  "cells": [
    {
      "cell_type": "markdown",
      "metadata": {
        "id": "view-in-github",
        "colab_type": "text"
      },
      "source": [
        "<a href=\"https://colab.research.google.com/github/Sookyung99/class2021Spring/blob/main/string.ipynb\" target=\"_parent\"><img src=\"https://colab.research.google.com/assets/colab-badge.svg\" alt=\"Open In Colab\"/></a>"
      ]
    },
    {
      "cell_type": "markdown",
      "metadata": {
        "id": "1v1Oqp0MDGCZ"
      },
      "source": [
        "## #indexing\n",
        "문자 N개로 이루어진 문자열을 저장한 변수 str에서, str[n]\n",
        "- n이 양수일 때 : 왼쪽부터 0, 1, 2, ... N-1\n",
        "- n이 음수일 때 : 오른쪽부터 -1, -2, -3, ... -N <br><br>\n",
        "\n",
        "[n:m] : n부터 m까지<br>\n",
        "**출력결과**\n",
        "- n < m 이면 : str[n]부터 str[m]까지 출력. ex) 'bcd'\n",
        "- n >= m이면 : 빈 문자열 출력\n",
        "- n 또는 m의 절대값이 N보다 클 수 있음\n",
        "- n 또는 m의 자리를 비워둘 수 있음 -> 비워둔 쪽의 문자 모두 출력\n"
      ]
    },
    {
      "cell_type": "code",
      "metadata": {
        "colab": {
          "base_uri": "https://localhost:8080/"
        },
        "id": "fR93gH3TCxYe",
        "outputId": "f2f97f35-0cb1-47b9-bf5f-4e0c2a4cd6c7"
      },
      "source": [
        "s = 'abcdef'\n",
        "print(s[0], s[5], s[-1], s[-6])\n",
        "print(s[1:3], s[1:], s[:3], s[:]) #print(string)의 출력형태 -> string"
      ],
      "execution_count": null,
      "outputs": [
        {
          "output_type": "stream",
          "text": [
            "a f f a\n",
            "bc bcdef abc abcdef\n"
          ],
          "name": "stdout"
        }
      ]
    },
    {
      "cell_type": "code",
      "metadata": {
        "colab": {
          "base_uri": "https://localhost:8080/"
        },
        "id": "vwoImOw0EK8v",
        "outputId": "33f1c47d-5be0-4b9f-9f95-d81f9249d9f0"
      },
      "source": [
        "n = [100, 200, 300] #리스트에서도 인덱싱 가능 \n",
        "print(n[0], n[2], [-1], n[-3])\n",
        "print(n[1:2], n[1:], n[:2], n[:]) #print(list)의 출력형태 -> [list]"
      ],
      "execution_count": null,
      "outputs": [
        {
          "output_type": "stream",
          "text": [
            "100 300 [-1] 100\n",
            "[200] [200, 300] [100, 200] [100, 200, 300]\n"
          ],
          "name": "stdout"
        }
      ]
    },
    {
      "cell_type": "code",
      "metadata": {
        "colab": {
          "base_uri": "https://localhost:8080/"
        },
        "id": "3Fi4uN1gGc42",
        "outputId": "905181b8-bb10-4934-835f-b3e5aebd05c6"
      },
      "source": [
        "len(s)  #Return the number of items in a container."
      ],
      "execution_count": null,
      "outputs": [
        {
          "output_type": "execute_result",
          "data": {
            "text/plain": [
              "6"
            ]
          },
          "metadata": {
            "tags": []
          },
          "execution_count": 26
        }
      ]
    },
    {
      "cell_type": "code",
      "metadata": {
        "colab": {
          "base_uri": "https://localhost:8080/",
          "height": 35
        },
        "id": "3i5ltSfeGjSk",
        "outputId": "2b2391ce-47e4-446a-da60-797fae333a98"
      },
      "source": [
        "s[1] + s[3] + s[4:] * 10  # str+str == \"strstr\", str*3 == \"strstrstr\""
      ],
      "execution_count": null,
      "outputs": [
        {
          "output_type": "execute_result",
          "data": {
            "application/vnd.google.colaboratory.intrinsic+json": {
              "type": "string"
            },
            "text/plain": [
              "'bdefefefefefefefefefef'"
            ]
          },
          "metadata": {
            "tags": []
          },
          "execution_count": 28
        }
      ]
    },
    {
      "cell_type": "code",
      "metadata": {
        "colab": {
          "base_uri": "https://localhost:8080/",
          "height": 35
        },
        "id": "hRzhqYhwG2PG",
        "outputId": "396cb401-65c7-485e-b579-4ce3b94dad21"
      },
      "source": [
        "s.upper() #모두 대문자로"
      ],
      "execution_count": null,
      "outputs": [
        {
          "output_type": "execute_result",
          "data": {
            "application/vnd.google.colaboratory.intrinsic+json": {
              "type": "string"
            },
            "text/plain": [
              "'ABCDEF'"
            ]
          },
          "metadata": {
            "tags": []
          },
          "execution_count": 29
        }
      ]
    },
    {
      "cell_type": "markdown",
      "metadata": {
        "id": "7hL1Y9yLLby3"
      },
      "source": [
        "### 문자열에서 특정 문자열 찾기\n",
        "*왼쪽부터([0]부터) 찾는 게 기본값*\n",
        "해당 하위문자열이 처음으로 등장하는 인덱스 값을 출력\n",
        "- S.find('substring')   : S에서 substring을 찾을 수 없는 경우 -1 출력\n",
        "- S.index('substring')  : S에서 substring을 찾을 수 없는 경우 ValueError 발생\n",
        "- S.rindex('substring') : S에서 substring을 찾을 수 없는 경우 ValueError 발생, 오른쪽부터 찾음"
      ]
    },
    {
      "cell_type": "code",
      "metadata": {
        "colab": {
          "base_uri": "https://localhost:8080/",
          "height": 35
        },
        "id": "f6T2DgukG63O",
        "outputId": "c9f98eef-a756-494a-b687-cfc4df5b6c0e"
      },
      "source": [
        "s = ' this is a house built this year.\\n'\n",
        "s         #작은따옴표에 묶여서 출력 + 모든 공백문자 문자열취급"
      ],
      "execution_count": null,
      "outputs": [
        {
          "output_type": "execute_result",
          "data": {
            "application/vnd.google.colaboratory.intrinsic+json": {
              "type": "string"
            },
            "text/plain": [
              "' this is a house built this year.\\n'"
            ]
          },
          "metadata": {
            "tags": []
          },
          "execution_count": 73
        }
      ]
    },
    {
      "cell_type": "code",
      "metadata": {
        "colab": {
          "base_uri": "https://localhost:8080/"
        },
        "id": "En8IFXTmHMpA",
        "outputId": "884e5870-1cbe-4eea-eef7-1a0fbe8725fe"
      },
      "source": [
        "print(s)  #작은따옴표 없이 출력 + 스페이스 제외 문자열 기능 실행됨"
      ],
      "execution_count": null,
      "outputs": [
        {
          "output_type": "stream",
          "text": [
            " this is a house built this year.\n",
            "\n"
          ],
          "name": "stdout"
        }
      ]
    },
    {
      "cell_type": "code",
      "metadata": {
        "colab": {
          "base_uri": "https://localhost:8080/"
        },
        "id": "F6nIB169HcaT",
        "outputId": "82169abb-5ead-4881-b3c7-94f39d2b14c4"
      },
      "source": [
        "result = s.find('house')    #index of first instance of string t inside s (-1 if not found)\n",
        "result                      #해당 문자열이 처음 등장하는 인덱스 번호.(못찾으면 -1 출력)"
      ],
      "execution_count": null,
      "outputs": [
        {
          "output_type": "execute_result",
          "data": {
            "text/plain": [
              "11"
            ]
          },
          "metadata": {
            "tags": []
          },
          "execution_count": 41
        }
      ]
    },
    {
      "cell_type": "code",
      "metadata": {
        "colab": {
          "base_uri": "https://localhost:8080/"
        },
        "id": "jMi74Z2rNwoO",
        "outputId": "8b488267-0883-4273-81a8-67c58dbbe5ca"
      },
      "source": [
        "result = s.index('this') # Left side에서부터 찾아서(=defalut) 처음 만난 해당 문자열 중 가장 낮은 인덱스 번호 출력\n",
        "result"
      ],
      "execution_count": null,
      "outputs": [
        {
          "output_type": "execute_result",
          "data": {
            "text/plain": [
              "1"
            ]
          },
          "metadata": {
            "tags": []
          },
          "execution_count": 83
        }
      ]
    },
    {
      "cell_type": "code",
      "metadata": {
        "colab": {
          "base_uri": "https://localhost:8080/"
        },
        "id": "OywfouCOIGXk",
        "outputId": "42e8f296-a449-45f4-d1b5-46a4558cfb60"
      },
      "source": [
        "result = s.rindex('this') #index of last instance of string t inside s (-1 if not found)\n",
        "result                    # Right side에서부터 찾아서 처음 만난 해당 문자열 중 가장 낮은 인덱스 번호 출력"
      ],
      "execution_count": null,
      "outputs": [
        {
          "output_type": "execute_result",
          "data": {
            "text/plain": [
              "23"
            ]
          },
          "metadata": {
            "tags": []
          },
          "execution_count": 74
        }
      ]
    },
    {
      "cell_type": "code",
      "metadata": {
        "colab": {
          "base_uri": "https://localhost:8080/",
          "height": 35
        },
        "id": "c0rEsyUpIieL",
        "outputId": "75bd1484-ebcf-4a97-a1d3-bbdb95b95a06"
      },
      "source": [
        "s = s.strip()   # a copy of s without leading or trailing whitespace\n",
        "s               # 문자열의 맨 처음과 끝의 whitespace 문자열 지우기"
      ],
      "execution_count": null,
      "outputs": [
        {
          "output_type": "execute_result",
          "data": {
            "application/vnd.google.colaboratory.intrinsic+json": {
              "type": "string"
            },
            "text/plain": [
              "'this is a house built this year.'"
            ]
          },
          "metadata": {
            "tags": []
          },
          "execution_count": 50
        }
      ]
    },
    {
      "cell_type": "markdown",
      "metadata": {
        "id": "3HrO3SFRN9Oo"
      },
      "source": [
        "## 문자열 정리하기\n",
        "#### 문자열 <-> 리스트\n",
        "- S.split('subs')   : subs를 기준으로 S를 쪼개어 각각을 원소로 하는 리스트에 묶음. <br>\n",
        "    기준이 되는 subs는 원소에 포함되지 않음(기준역할만 하고 삭제. 안녕~)\n",
        "- 'subs'.join(List) : 문자열 원소로만 구성된 리스트에서 가능. subs를 원소 사이사이에 넣어 하나의 문자열로 만듦\n",
        "\n",
        "#### 문자열 부분 대체\n",
        "- S.replace('a', 'b') : 'a'를 'b'로 대체함"
      ]
    },
    {
      "cell_type": "code",
      "metadata": {
        "colab": {
          "base_uri": "https://localhost:8080/"
        },
        "id": "030g8GYmI45-",
        "outputId": "5efa69e6-780f-46da-966f-d601ea8e1e38"
      },
      "source": [
        "tokens = s.split(' ') #split s into a list wherever a t is found (whitespace by default)\n",
        "tokens      # ' '를 기준으로 문자열 잘라서 각각을 원소로 저장하는 리스트로 만들기"
      ],
      "execution_count": null,
      "outputs": [
        {
          "output_type": "execute_result",
          "data": {
            "text/plain": [
              "['this', 'is', 'a', 'house', 'built', 'this', 'year.']"
            ]
          },
          "metadata": {
            "tags": []
          },
          "execution_count": 52
        }
      ]
    },
    {
      "cell_type": "code",
      "metadata": {
        "colab": {
          "base_uri": "https://localhost:8080/",
          "height": 35
        },
        "id": "tHm2lJ2GJNJ2",
        "outputId": "7305373b-4746-420b-d890-249f29424d51"
      },
      "source": [
        "s = ' '.join(tokens)  #combine the words of the text into a string using s as the glue\n",
        "s                     # ' '를 사이사이에 두고 문자열 원소들로만 구성된 리스트의 원소들을 하나의 문자열로 합치기"
      ],
      "execution_count": null,
      "outputs": [
        {
          "output_type": "execute_result",
          "data": {
            "application/vnd.google.colaboratory.intrinsic+json": {
              "type": "string"
            },
            "text/plain": [
              "'this is a house built this year.'"
            ]
          },
          "metadata": {
            "tags": []
          },
          "execution_count": 53
        }
      ]
    },
    {
      "cell_type": "code",
      "metadata": {
        "colab": {
          "base_uri": "https://localhost:8080/",
          "height": 35
        },
        "id": "QItNiv8YJdXe",
        "outputId": "a402617a-5814-41b2-d978-08c23c96e875"
      },
      "source": [
        "s = s.replace('this', 'that') #replace instances of t with u inside s\n",
        "s                             #replace 함수는 문자열에서만 사용 가능"
      ],
      "execution_count": null,
      "outputs": [
        {
          "output_type": "execute_result",
          "data": {
            "application/vnd.google.colaboratory.intrinsic+json": {
              "type": "string"
            },
            "text/plain": [
              "'that is a house built that year.'"
            ]
          },
          "metadata": {
            "tags": []
          },
          "execution_count": 55
        }
      ]
    }
  ]
}
{
  "nbformat": 4,
  "nbformat_minor": 0,
  "metadata": {
    "colab": {
      "name": "syntax.ipynb",
      "provenance": [],
      "collapsed_sections": [],
      "authorship_tag": "ABX9TyNaJACRZOvNzj9zTqIXybSR",
      "include_colab_link": true
    },
    "kernelspec": {
      "name": "python3",
      "display_name": "Python 3"
    }
  },
  "cells": [
    {
      "cell_type": "markdown",
      "metadata": {
        "id": "view-in-github",
        "colab_type": "text"
      },
      "source": [
        "<a href=\"https://colab.research.google.com/github/Sookyung99/class2021Spring/blob/main/syntax.ipynb\" target=\"_parent\"><img src=\"https://colab.research.google.com/assets/colab-badge.svg\" alt=\"Open In Colab\"/></a>"
      ]
    },
    {
      "cell_type": "markdown",
      "metadata": {
        "id": "E1BM6xfsiDg7"
      },
      "source": [
        "## syntax 제어문\n",
        "1. for문<br>\n",
        "    for __ in ___: <br>\n",
        "      ...\n",
        "2. if문<br>\n",
        "    if ___: <br>\n",
        "     ... "
      ]
    },
    {
      "cell_type": "code",
      "metadata": {
        "colab": {
          "base_uri": "https://localhost:8080/"
        },
        "id": "w9iJV5ddPoIn",
        "outputId": "c63ce132-5e2e-480a-d9b4-ecf34da7662e"
      },
      "source": [
        "a = [1, 2, 3, 4]\r\n",
        "for i in a:\r\n",
        "  print(i)"
      ],
      "execution_count": null,
      "outputs": [
        {
          "output_type": "stream",
          "text": [
            "1\n",
            "2\n",
            "3\n",
            "4\n"
          ],
          "name": "stdout"
        }
      ]
    },
    {
      "cell_type": "code",
      "metadata": {
        "colab": {
          "base_uri": "https://localhost:8080/"
        },
        "id": "e0O2i4g0Pxxo",
        "outputId": "058fdf7e-457b-4aca-f457-1a4c7b085fef"
      },
      "source": [
        "a = [1, 2, 3, 4]\r\n",
        "for i in range(len(a)):\r\n",
        "  print(a[i])"
      ],
      "execution_count": null,
      "outputs": [
        {
          "output_type": "stream",
          "text": [
            "1\n",
            "2\n",
            "3\n",
            "4\n"
          ],
          "name": "stdout"
        }
      ]
    },
    {
      "cell_type": "code",
      "metadata": {
        "colab": {
          "base_uri": "https://localhost:8080/"
        },
        "id": "oghLkExZQCXk",
        "outputId": "1b147a81-634d-48c7-89c1-b11d84688327"
      },
      "source": [
        "a = ['red', 'green', 'blue', 'purple']\r\n",
        "for i in a:\r\n",
        "  print(i)"
      ],
      "execution_count": null,
      "outputs": [
        {
          "output_type": "stream",
          "text": [
            "red\n",
            "green\n",
            "blue\n",
            "purple\n"
          ],
          "name": "stdout"
        }
      ]
    },
    {
      "cell_type": "code",
      "metadata": {
        "colab": {
          "base_uri": "https://localhost:8080/"
        },
        "id": "MTuGzqLvQLBF",
        "outputId": "5a9acf3f-3545-4d88-8d73-e2d1fd6830de"
      },
      "source": [
        "a = ['red', 'green', 'blue',  'purple']\r\n",
        "for i in range(len(a)):\r\n",
        "  print(a[i])"
      ],
      "execution_count": null,
      "outputs": [
        {
          "output_type": "stream",
          "text": [
            "red\n",
            "green\n",
            "blue\n",
            "purple\n"
          ],
          "name": "stdout"
        }
      ]
    },
    {
      "cell_type": "code",
      "metadata": {
        "colab": {
          "base_uri": "https://localhost:8080/"
        },
        "id": "HGhCrEwLQWAY",
        "outputId": "e8b8329a-8e14-47e5-f810-d72c5430a400"
      },
      "source": [
        "a = ['red', 'green', 'blue',  'purple']\r\n",
        "for i in range(len(a)): # 0부터 리스트 a의 원소 개수만큼의 int들을 i라고 하면\r\n",
        "  print(a[i])           # i를 인덱스로 해서 그만큼 출력해라"
      ],
      "execution_count": null,
      "outputs": [
        {
          "output_type": "stream",
          "text": [
            "red\n",
            "green\n",
            "blue\n",
            "purple\n"
          ],
          "name": "stdout"
        }
      ]
    },
    {
      "cell_type": "code",
      "metadata": {
        "id": "6UN-80qxQaIu"
      },
      "source": [
        "# len(a) -> 4\r\n",
        "# range(len(a)) == range(4) -> range(0, 4)\r\n",
        "## range(n)은 기본값이 0부터임. range(4)면 0, 1, 2, 3 을 의미.\r\n",
        "## range(n, m)이면 n <= < m 인 자연수들 출력함."
      ],
      "execution_count": null,
      "outputs": []
    },
    {
      "cell_type": "markdown",
      "metadata": {
        "id": "-8Z1M41DVp-q"
      },
      "source": [
        "### range(n)\r\n",
        "기본값이 0부터임. range(4)면 0, 1, 2, 3 을 의미.<br>\r\n",
        "range(n, m)이면 n <= < m 인 자연수들 출력함.\r\n",
        "- **for** i **in** range( ): 와 같이 사용해 인덱스 값으로 이용 가능"
      ]
    },
    {
      "cell_type": "code",
      "metadata": {
        "colab": {
          "base_uri": "https://localhost:8080/"
        },
        "id": "2J8NNKFCRMZR",
        "outputId": "7574adae-9412-49eb-f574-4dd8ef4463f1"
      },
      "source": [
        "a = [\"red\", \"green\", \"blue\", \"purple\"]\r\n",
        "b = [0.2, 0.3, 0.1, 0.4]\r\n",
        "for i, a_ in enumerate(a):                ###인덱스값이랑 해당 원소가 나오나..?\r\n",
        "  print(\"{}: {}%\".format(a_, b[i]*100))   ### \"{}\".format(__)"
      ],
      "execution_count": null,
      "outputs": [
        {
          "output_type": "stream",
          "text": [
            "red: 20.0%\n",
            "green: 30.0%\n",
            "blue: 10.0%\n",
            "purple: 40.0%\n"
          ],
          "name": "stdout"
        }
      ]
    },
    {
      "cell_type": "code",
      "metadata": {
        "colab": {
          "base_uri": "https://localhost:8080/"
        },
        "id": "KbteNHCcScDi",
        "outputId": "ea732ce8-9ff5-4907-dc99-c94be794887b"
      },
      "source": [
        "a = ['red', 'green', 'blue', 'purple']\r\n",
        "b = [0.2, 0.3, 0.1, 0.4]\r\n",
        "for a_, b_ in zip(a, b):\r\n",
        "  print(\"{}: {}%\".format(a_, b_*100))"
      ],
      "execution_count": null,
      "outputs": [
        {
          "output_type": "stream",
          "text": [
            "red: 20.0%\n",
            "green: 30.0%\n",
            "blue: 10.0%\n",
            "purple: 40.0%\n"
          ],
          "name": "stdout"
        }
      ]
    },
    {
      "cell_type": "markdown",
      "metadata": {
        "id": "9f-4pFqcV50W"
      },
      "source": [
        "? enumerate( )<br>\r\n",
        "? zip( , ) <br>\r\n",
        "? ''.format()"
      ]
    },
    {
      "cell_type": "code",
      "metadata": {
        "colab": {
          "base_uri": "https://localhost:8080/"
        },
        "id": "6cH0ez75TlqV",
        "outputId": "53dead21-c3e0-41ce-96ed-d25b0f64757b"
      },
      "source": [
        "a = 0\r\n",
        "if a == 0:\r\n",
        "  print(a)\r\n",
        "else:\r\n",
        "    print(a+1)\r\n"
      ],
      "execution_count": null,
      "outputs": [
        {
          "output_type": "stream",
          "text": [
            "0\n"
          ],
          "name": "stdout"
        }
      ]
    },
    {
      "cell_type": "code",
      "metadata": {
        "colab": {
          "base_uri": "https://localhost:8080/"
        },
        "id": "aaf0ODDtTxWy",
        "outputId": "0f028d1a-fc4d-4607-8377-1c05215abca1"
      },
      "source": [
        "for i in range(1, 3):           # 1, 2\r\n",
        "  for j in range(3, 5):         # 3, 4\r\n",
        "    print(i * j)                # 1*3, 1*4, 2*3, 2*4"
      ],
      "execution_count": null,
      "outputs": [
        {
          "output_type": "stream",
          "text": [
            "3\n",
            "4\n",
            "6\n",
            "8\n"
          ],
          "name": "stdout"
        }
      ]
    },
    {
      "cell_type": "code",
      "metadata": {
        "colab": {
          "base_uri": "https://localhost:8080/"
        },
        "id": "5pmwdfpNULE0",
        "outputId": "1d07f4e6-c380-40ad-e35a-8cd6f90880e7"
      },
      "source": [
        "for i in range(1, 3):           # 1, 2\r\n",
        "  for j in range(3, 5):         # 3, 4\r\n",
        "    if j >= 4:                  \r\n",
        "      print(i * j)              # 1*4, 2*4"
      ],
      "execution_count": null,
      "outputs": [
        {
          "output_type": "stream",
          "text": [
            "4\n",
            "8\n"
          ],
          "name": "stdout"
        }
      ]
    },
    {
      "cell_type": "code",
      "metadata": {
        "colab": {
          "base_uri": "https://localhost:8080/"
        },
        "id": "5QwUz3DmUbrU",
        "outputId": "c7457a63-f336-4f5d-dcff-cab73ed130ac"
      },
      "source": [
        "a = [1, 2, 3, 4]\r\n",
        "b = [i for i in a if i >= 2]  # [list], {set} 에서 가능\r\n",
        "b"
      ],
      "execution_count": null,
      "outputs": [
        {
          "output_type": "execute_result",
          "data": {
            "text/plain": [
              "[2, 3, 4]"
            ]
          },
          "metadata": {
            "tags": []
          },
          "execution_count": 39
        }
      ]
    },
    {
      "cell_type": "code",
      "metadata": {
        "colab": {
          "base_uri": "https://localhost:8080/"
        },
        "id": "Edd00pd-Ukvd",
        "outputId": "ac115479-a90a-4723-becd-62b9b10118e4"
      },
      "source": [
        "a = ['red', 'green', 'blue', 'purple']\r\n",
        "b = [i for i in a if len(i) >= 4]   #리스트 a의 원소 i는 모두 문자열. len(i)는 그럼 문자열 구성 문자 개수\r\n",
        "b"
      ],
      "execution_count": null,
      "outputs": [
        {
          "output_type": "execute_result",
          "data": {
            "text/plain": [
              "['green', 'blue', 'purple']"
            ]
          },
          "metadata": {
            "tags": []
          },
          "execution_count": 43
        }
      ]
    }
  ]
}